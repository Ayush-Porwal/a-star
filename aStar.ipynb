{
  "nbformat": 4,
  "nbformat_minor": 0,
  "metadata": {
    "kernelspec": {
      "display_name": "Python 3",
      "language": "python",
      "name": "python3"
    },
    "language_info": {
      "codemirror_mode": {
        "name": "ipython",
        "version": 3
      },
      "file_extension": ".py",
      "mimetype": "text/x-python",
      "name": "python",
      "nbconvert_exporter": "python",
      "pygments_lexer": "ipython3",
      "version": "3.7.6"
    },
    "colab": {
      "name": "aStar.ipynb",
      "provenance": [],
      "collapsed_sections": []
    },
    "accelerator": "GPU"
  },
  "cells": [
    {
      "cell_type": "code",
      "metadata": {
        "id": "pYFdPRZ9o6SF",
        "colab_type": "code",
        "colab": {
          "base_uri": "https://localhost:8080/",
          "height": 34
        },
        "outputId": "379889fe-b199-499e-b639-761d2b5b0966"
      },
      "source": [
        "from google.colab import drive\n",
        "drive.mount('/content/drive')"
      ],
      "execution_count": 1,
      "outputs": [
        {
          "output_type": "stream",
          "text": [
            "Drive already mounted at /content/drive; to attempt to forcibly remount, call drive.mount(\"/content/drive\", force_remount=True).\n"
          ],
          "name": "stdout"
        }
      ]
    },
    {
      "cell_type": "code",
      "metadata": {
        "id": "qmLVgiirckql",
        "colab_type": "code",
        "outputId": "631767bc-6c02-47dc-ea01-cd561e1d11ae",
        "colab": {
          "base_uri": "https://localhost:8080/",
          "height": 34
        }
      },
      "source": [
        "%pip install haversine\n",
        "#Earth is almost a spherical body so we should use haversine distance between two points\n",
        "from haversine import haversine"
      ],
      "execution_count": 2,
      "outputs": [
        {
          "output_type": "stream",
          "text": [
            "Requirement already satisfied: haversine in /usr/local/lib/python3.6/dist-packages (2.2.0)\n"
          ],
          "name": "stdout"
        }
      ]
    },
    {
      "cell_type": "code",
      "metadata": {
        "id": "vCmXQM3Kckqu",
        "colab_type": "code",
        "colab": {}
      },
      "source": [
        "#read the node.csv file\n",
        "import pandas as pd\n",
        "latlonData = pd.read_csv('/content/drive/My Drive/AI Assignment/nodes.csv')\n",
        "\n",
        "#function to get h(node)\n",
        "def calculateHeuristic(currNode):\n",
        "  [currLat,currLon] = latlonData[latlonData['id']==currNode].iloc[0][['lat','lon']]\n",
        "  curr = (currLat, currLon)\n",
        "  dest = (17.240673, 78.432342)\n",
        "\n",
        "  return haversine(curr, dest)"
      ],
      "execution_count": 0,
      "outputs": []
    },
    {
      "cell_type": "code",
      "metadata": {
        "id": "UOad9YmVckq2",
        "colab_type": "code",
        "outputId": "03a106eb-51c1-433b-f6f3-98d758938fb0",
        "colab": {
          "base_uri": "https://localhost:8080/",
          "height": 51
        }
      },
      "source": [
        "#to construct graph from edges.csv\n",
        "%pip install networkx\n",
        "import networkx as nx\n",
        "\n",
        "#read the edges.csv file\n",
        "graphData = pd.read_csv('/content/drive/My Drive/AI Assignment/edges.csv')\n",
        "#we require only three columns to make a weighted graph\n",
        "graphData = graphData[['source','target','length']]\n",
        "\n",
        "#making graph\n",
        "graphType = nx.Graph()\n",
        "g = nx.from_pandas_edgelist(graphData, edge_attr='length', create_using=graphType)\n",
        "\n",
        "#using openSet as a heap\n",
        "import heapq\n",
        "\n",
        "#function to create final route\n",
        "def createPath(cameFrom, current):\n",
        "  path = [current]\n",
        "  while current in cameFrom.keys():\n",
        "    current = cameFrom[current]\n",
        "    path.insert(0,current)\n",
        "  return path\n",
        "\n",
        "#A* algorithm implementation\n",
        "def aStar(srcNode, destNode):\n",
        "  \n",
        "  #set of discovered node that may need to be re-expanded. Implemented as heap.\n",
        "  openSet = []\n",
        "  \n",
        "  #cameFrom[node] is the parent node of current node.\n",
        "  cameFrom = {}\n",
        "  cameFrom[srcNode] = None\n",
        "  \n",
        "  #tentative gScore \n",
        "  #i.e. in while loop this need to be changed if new gScore for the same node is less via some other optimal path\n",
        "  cost = {}\n",
        "  cost[srcNode] = 0\n",
        "  \n",
        "  #fScore(node) = gScore(node) + h(node)\n",
        "  fScore = {}\n",
        "  fScore[srcNode] = 0\n",
        "  \n",
        "  #cost to reach current node from the source node following an optimal path\n",
        "  gScore = {}\n",
        "  gScore[srcNode] = 0\n",
        "  \n",
        "  #pushing current node to openSet which is implemented as a heap\n",
        "  heapq.heappush(openSet, (srcNode, fScore))\n",
        "  \n",
        "  #search begins\n",
        "  while len(openSet) > 0:\n",
        "    \n",
        "    #popping out the visited node from openSet\n",
        "    currentNode = heapq.heappop(openSet)\n",
        "    \n",
        "    #if arrived at destination then create path and return it\n",
        "    if (currentNode[0] == destNode):\n",
        "      return createPath(cameFrom,currentNode[0])\n",
        "        \n",
        "    #fetch neighbours of current node from graph\n",
        "    neighbourData = list(g.neighbors(currentNode[0]))\n",
        "        \n",
        "    #in neighbourData\n",
        "    for item in neighbourData:\n",
        "      #distance = length of edge between currentNode & neighbourNode\n",
        "      #neighbourNode is osm id of the node\n",
        "      neighbourNode = item\n",
        "      distance = g[currentNode[0]][neighbourNode]['length']\n",
        "\n",
        "      #if neighbourNode has not been visited before\n",
        "      if neighbourNode not in cameFrom:\n",
        "        \n",
        "        #cost = distance from srcNode to neighbourNode through currentNode i.e. tentative gScore of neighbourNode\n",
        "        cost[neighbourNode] = gScore[currentNode[0]] + distance\n",
        "        \n",
        "        # if we have a neighbour that has been visited already by some other path\n",
        "        # and we are visiting it again via some new path, we check which path is optimum\n",
        "        if cost[neighbourNode] < gScore.get(neighbourNode, float('inf')):\n",
        "          #if true then this path is better one than the previous\n",
        "          #so we update everything\n",
        "          cameFrom[neighbourNode] = currentNode[0]\n",
        "          gScore[neighbourNode] = cost[neighbourNode]\n",
        "          fScore[neighbourNode] = gScore[neighbourNode] + calculateHeuristic(neighbourNode)\n",
        "          if neighbourNode not in openSet:\n",
        "            heapq.heappush(openSet, (neighbourNode, fScore))\n",
        "\n",
        "  #return openSet: it is empty, so destination was never reached. [Failure]\n",
        "  return openSet"
      ],
      "execution_count": 4,
      "outputs": [
        {
          "output_type": "stream",
          "text": [
            "Requirement already satisfied: networkx in /usr/local/lib/python3.6/dist-packages (2.4)\n",
            "Requirement already satisfied: decorator>=4.3.0 in /usr/local/lib/python3.6/dist-packages (from networkx) (4.4.2)\n"
          ],
          "name": "stdout"
        }
      ]
    },
    {
      "cell_type": "code",
      "metadata": {
        "id": "UxqWccEcckq8",
        "colab_type": "code",
        "colab": {}
      },
      "source": [
        "#osm id of source node\n",
        "srcNode = 7065632060\n",
        "#osm ide of destination node\n",
        "destNode = 5711258337\n",
        "\n",
        "#call to aStar\n",
        "route = aStar(srcNode, destNode)\n",
        "#popping the None\n",
        "route.pop(0)\n",
        "\n",
        "#if path not found, inform the user\n",
        "if len(route)==0:\n",
        "  print(f'Fatal Error: Path doesn\\'t exist')"
      ],
      "execution_count": 0,
      "outputs": []
    },
    {
      "cell_type": "code",
      "metadata": {
        "id": "jtlmUCmuFVQ5",
        "colab_type": "code",
        "colab": {
          "base_uri": "https://localhost:8080/",
          "height": 119
        },
        "outputId": "b86e298d-a441-40a0-be40-164bb123ad80"
      },
      "source": [
        "#aStar function return list(route) which contains osm id's so we need to obtain lat lons from latlonData for each osm id\n",
        "latlonRoute = []\n",
        "for node in route:\n",
        "  [lat,lon] = latlonData[latlonData['id']==node].iloc[0][['lat','lon']]\n",
        "  latlonRoute.append((lat,lon))\n",
        "\n",
        "#to find meanLat and meanLon so as to display middle location on map\n",
        "from statistics import mean\n",
        "meanLat = mean(point[0] for point in latlonRoute)\n",
        "meanLon = mean(point[1] for point in latlonRoute)\n",
        "\n",
        "%pip install gmplot\n",
        "import gmplot\n",
        "\n",
        "routeLats, routeLons = zip(*latlonRoute)\n",
        "gmap = gmplot.GoogleMapPlotter(meanLat, meanLon, 13)\n",
        "#uncomment the foloowing line to make a scatter plot the nodes along thr route\n",
        "#gmap.scatter(routeLats, routeLons, '#FF0000', size = 50, marker = False )\n",
        "gmap.plot(routeLats, routeLons, 'cornflowerblue', edge_width = 3.0)\n",
        "gmap.draw('route.html')"
      ],
      "execution_count": 6,
      "outputs": [
        {
          "output_type": "stream",
          "text": [
            "Requirement already satisfied: gmplot in /usr/local/lib/python3.6/dist-packages (1.2.0)\n",
            "Requirement already satisfied: requests in /usr/local/lib/python3.6/dist-packages (from gmplot) (2.23.0)\n",
            "Requirement already satisfied: chardet<4,>=3.0.2 in /usr/local/lib/python3.6/dist-packages (from requests->gmplot) (3.0.4)\n",
            "Requirement already satisfied: urllib3!=1.25.0,!=1.25.1,<1.26,>=1.21.1 in /usr/local/lib/python3.6/dist-packages (from requests->gmplot) (1.24.3)\n",
            "Requirement already satisfied: idna<3,>=2.5 in /usr/local/lib/python3.6/dist-packages (from requests->gmplot) (2.9)\n",
            "Requirement already satisfied: certifi>=2017.4.17 in /usr/local/lib/python3.6/dist-packages (from requests->gmplot) (2020.4.5.1)\n"
          ],
          "name": "stdout"
        }
      ]
    }
  ]
}