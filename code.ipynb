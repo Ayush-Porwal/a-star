{
  "nbformat": 4,
  "nbformat_minor": 0,
  "metadata": {
    "kernelspec": {
      "display_name": "Python 3",
      "language": "python",
      "name": "python3"
    },
    "language_info": {
      "codemirror_mode": {
        "name": "ipython",
        "version": 3
      },
      "file_extension": ".py",
      "mimetype": "text/x-python",
      "name": "python",
      "nbconvert_exporter": "python",
      "pygments_lexer": "ipython3",
      "version": "3.7.6"
    },
    "colab": {
      "name": "distance.ipynb",
      "provenance": [],
      "collapsed_sections": []
    },
    "accelerator": "GPU"
  },
  "cells": [
    {
      "cell_type": "code",
      "metadata": {
        "id": "CmQtcHDX0X3X",
        "colab_type": "code",
        "outputId": "afe13844-78e8-40cf-9c06-78a21892757a",
        "colab": {
          "base_uri": "https://localhost:8080/",
          "height": 34
        }
      },
      "source": [
        "from google.colab import drive\n",
        "drive.mount('/content/drive')"
      ],
      "execution_count": 2,
      "outputs": [
        {
          "output_type": "stream",
          "text": [
            "Drive already mounted at /content/drive; to attempt to forcibly remount, call drive.mount(\"/content/drive\", force_remount=True).\n"
          ],
          "name": "stdout"
        }
      ]
    },
    {
      "cell_type": "code",
      "metadata": {
        "id": "qmLVgiirckql",
        "colab_type": "code",
        "outputId": "5e607ac7-fd52-42c2-e85a-f8617f455627",
        "colab": {
          "base_uri": "https://localhost:8080/",
          "height": 34
        }
      },
      "source": [
        "%pip install haversine\n",
        "from haversine import haversine"
      ],
      "execution_count": 3,
      "outputs": [
        {
          "output_type": "stream",
          "text": [
            "Requirement already satisfied: haversine in /usr/local/lib/python3.6/dist-packages (2.2.0)\n"
          ],
          "name": "stdout"
        }
      ]
    },
    {
      "cell_type": "code",
      "metadata": {
        "id": "vCmXQM3Kckqu",
        "colab_type": "code",
        "colab": {}
      },
      "source": [
        "import pandas as pd\n",
        "latlonData = pd.read_csv('/content/drive/My Drive/AI Assignment/nodes.csv')\n",
        "\n",
        "def calculateHeuristic(currNode):\n",
        "  [currLat,currLon] = latlonData[latlonData['id']==currNode].iloc[0][['lat','lon']]\n",
        "  curr = (currLat, currLon)\n",
        "  dest = (17.240673, 78.432342)\n",
        "\n",
        "  return haversine(curr, dest)"
      ],
      "execution_count": 0,
      "outputs": []
    },
    {
      "cell_type": "code",
      "metadata": {
        "id": "UOad9YmVckq2",
        "colab_type": "code",
        "colab": {
          "base_uri": "https://localhost:8080/",
          "height": 51
        },
        "outputId": "c0af802b-0643-4ecb-8841-a01803b9b19a"
      },
      "source": [
        "%pip install networkx\n",
        "import networkx as nx\n",
        "\n",
        "graphData = pd.read_csv('/content/drive/My Drive/AI Assignment/edges.csv')\n",
        "graphData = graphData[['source','target','length']]\n",
        "\n",
        "graphType = nx.Graph()\n",
        "g = nx.from_pandas_edgelist(graphData, edge_attr='length', create_using=graphType)\n",
        "\n",
        "import heapq\n",
        "\n",
        "def createPath(cameFrom, current):\n",
        "  path = [current]\n",
        "  while current in cameFrom.keys():\n",
        "    current = cameFrom[current]\n",
        "    path.insert(0,current)\n",
        "  return path\n",
        "\n",
        "\n",
        "def aStar(srcNode, destNode):\n",
        "    openSet = []\n",
        "    \n",
        "    cameFrom = {}\n",
        "    cameFrom[srcNode] = None\n",
        "\n",
        "    cost = {}\n",
        "    cost[srcNode] = 0\n",
        "    \n",
        "    fScore = {}\n",
        "    fScore[srcNode] = 0\n",
        "\n",
        "    gScore = {}\n",
        "    gScore[srcNode] = 0\n",
        "\n",
        "    heapq.heappush(openSet, (srcNode, fScore))\n",
        "    \n",
        "    while len(openSet) > 0:\n",
        "      \n",
        "      currentNode = heapq.heappop(openSet)\n",
        "      \n",
        "      # if true then create path and return it\n",
        "      if (currentNode[0] == destNode):\n",
        "        return createPath(cameFrom,currentNode[0])\n",
        "        \n",
        "      #fetch neighbours of current node\n",
        "      neighbourData = list(g.neighbors(currentNode[0]))\n",
        "        \n",
        "      #in neighbourData\n",
        "      for item in neighbourData:\n",
        "        #distance = length of edge between current & neighbourNode\n",
        "        #g_Score = 0 if newly visited node or has some value assosiated to it calculated previously\n",
        "        #neighbourNode is osm id of the node\n",
        "        neighbourNode = item\n",
        "        distance = g[currentNode[0]][neighbourNode]['length']\n",
        "        if neighbourNode not in cameFrom:\n",
        "          # cost = distance from srcNode to neighbourNode through currentNode\n",
        "          cost[neighbourNode] = gScore[currentNode[0]] + distance\n",
        "          # if we have a neighbour that has been visited already by some other path\n",
        "          # and we are visiting it again via new path, we check which one is optimum\n",
        "          if cost[neighbourNode] < gScore.get(neighbourNode, float('inf')):\n",
        "            cameFrom[neighbourNode] = currentNode[0]\n",
        "            gScore[neighbourNode] = cost[neighbourNode]\n",
        "            fScore[neighbourNode] = gScore[neighbourNode] + calculateHeuristic(neighbourNode)\n",
        "            if neighbourNode not in openSet:\n",
        "              heapq.heappush(openSet, (neighbourNode, fScore))\n",
        "    return openSet"
      ],
      "execution_count": 5,
      "outputs": [
        {
          "output_type": "stream",
          "text": [
            "Requirement already satisfied: networkx in /usr/local/lib/python3.6/dist-packages (2.4)\n",
            "Requirement already satisfied: decorator>=4.3.0 in /usr/local/lib/python3.6/dist-packages (from networkx) (4.4.2)\n"
          ],
          "name": "stdout"
        }
      ]
    },
    {
      "cell_type": "code",
      "metadata": {
        "id": "UxqWccEcckq8",
        "colab_type": "code",
        "colab": {}
      },
      "source": [
        "srcNode = 7065632060\n",
        "destNode = 5711258337\n",
        "\n",
        "route = aStar(srcNode, destNode)\n",
        "route.pop(0)\n",
        "\n",
        "if len(route)==0:\n",
        "  print(f'Fatal Error: Path doesn\\'t exist')"
      ],
      "execution_count": 0,
      "outputs": []
    },
    {
      "cell_type": "code",
      "metadata": {
        "id": "jtlmUCmuFVQ5",
        "colab_type": "code",
        "colab": {}
      },
      "source": [
        "latlonRoute = []\n",
        "for node in route:\n",
        "  [lat,lon] = latlonData[latlonData['id']==node].iloc[0][['lat','lon']]\n",
        "  latlonRoute.append((lat,lon))\n",
        "latlonRoute\n",
        "\n",
        "from statistics import mean\n",
        "meanLat = mean(point[0] for point in latlonRoute)\n",
        "meanLon = mean(point[1] for point in latlonRoute)\n",
        "\n",
        "#%pip install gmplot\n",
        "import gmplot\n",
        "\n",
        "routeLats, routeLons = zip(*latlonRoute)\n",
        "gmap3 = gmplot.GoogleMapPlotter(meanLat, meanLon, 13)\n",
        "#gmap3.scatter(routeLats, routeLons, '#FF0000', size = 50, marker = False )\n",
        "gmap3.plot(routeLats, routeLons, 'cornflowerblue', edge_width = 3.0)\n",
        "gmap3.draw('route.html')"
      ],
      "execution_count": 0,
      "outputs": []
    },
    {
      "cell_type": "code",
      "metadata": {
        "id": "cNFwKdAu5nHC",
        "colab_type": "code",
        "colab": {}
      },
      "source": [
        ""
      ],
      "execution_count": 0,
      "outputs": []
    }
  ]
}